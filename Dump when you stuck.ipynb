{
 "cells": [
  {
   "cell_type": "markdown",
   "id": "79d82346",
   "metadata": {},
   "source": [
    "[Cheatsheet GOG](https://www.geeksforgeeks.org/geeksforgeeks-cheatsheets-all-coding-cheat-sheets/?ref=gcse)"
   ]
  },
  {
   "cell_type": "markdown",
   "id": "8e0bdc6b",
   "metadata": {},
   "source": [
    "## How to document in jupyter?\n",
    "\n",
    "[link](https://saturncloud.io/blog/how-to-write-text-in-jupyter-ipython-notebook/#:~:text=To%20write%20text%20in%20Jupyter%20%2F%20IPython%20Notebook%2C%20you%20need%20to,your%20text%20using%20Markdown%20syntax.)\n",
    "\n",
    "jupyter keyboard shortcuts in help"
   ]
  },
  {
   "cell_type": "markdown",
   "id": "e303aa5b",
   "metadata": {},
   "source": [
    "## Type Cast\n",
    "\n",
    "Inbuilt functions \n",
    "- int()  changes to int\n",
    "- float()  changes to float\n",
    "- str()  changes to str"
   ]
  },
  {
   "cell_type": "markdown",
   "id": "3e075003",
   "metadata": {},
   "source": [
    "## Taking input"
   ]
  },
  {
   "cell_type": "code",
   "execution_count": 1,
   "id": "19093770",
   "metadata": {},
   "outputs": [
    {
     "data": {
      "text/plain": [
       "''"
      ]
     },
     "execution_count": 1,
     "metadata": {},
     "output_type": "execute_result"
    }
   ],
   "source": [
    "inp = input('STATEMENT') \n",
    "\n",
    "\n",
    "#basicly\n",
    "input(\"write here what to ask\")"
   ]
  },
  {
   "cell_type": "markdown",
   "id": "ccb1c3a9",
   "metadata": {},
   "source": [
    "## String slicing"
   ]
  },
  {
   "cell_type": "code",
   "execution_count": 2,
   "id": "bfa10a21",
   "metadata": {},
   "outputs": [
    {
     "name": "stdout",
     "output_type": "stream",
     "text": [
      "Initial String: \n",
      "GeeksForGeeks\n",
      "\n",
      "Slicing characters from 3-12: \n",
      "ksForGeek\n",
      "\n",
      "Slicing characters between 3rd and 2nd last character: \n",
      "ksForGee\n"
     ]
    }
   ],
   "source": [
    " \n",
    "# Creating a String\n",
    "String1 = \"GeeksForGeeks\"\n",
    "print(\"Initial String: \")\n",
    "print(String1)\n",
    " \n",
    "# Printing 3rd to 12th character\n",
    "print(\"\\nSlicing characters from 3-12: \")\n",
    "print(String1[3:12])\n",
    " \n",
    "# Printing characters between\n",
    "# 3rd and 2nd last character\n",
    "print(\"\\nSlicing characters between \" +\n",
    "      \"3rd and 2nd last character: \")\n",
    "print(String1[3:-2])\n",
    "\n",
    "\n",
    "\n",
    "#inside [] we are refering accrding to indexing"
   ]
  },
  {
   "cell_type": "markdown",
   "id": "16caf23c",
   "metadata": {},
   "source": [
    "## String Methods\n",
    "\n",
    "> lower(): Converts all uppercase characters in a string into lowercase\n",
    "\n",
    "> upper(): Converts all lowercase characters in a string into uppercase\n",
    "\n",
    "> title(): Convert string to title case\n",
    "\n",
    "> swapcase(): Swap the cases of all characters in a string\n",
    "\n",
    "> capitalize(): Convert the first character of a string to uppercase"
   ]
  },
  {
   "cell_type": "markdown",
   "id": "7c0c28e6",
   "metadata": {},
   "source": [
    "#     if __name__ == \"__main__\": || __main__ || __init_\n",
    "\n",
    "- https://www.geeksforgeeks.org/what-does-the-if-__name__-__main__-do/\n",
    "\n",
    "- https://www.geeksforgeeks.org/usage-of-__main__-py-in-python/"
   ]
  },
  {
   "cell_type": "code",
   "execution_count": 3,
   "id": "38b845e4",
   "metadata": {},
   "outputs": [
    {
     "name": "stdout",
     "output_type": "stream",
     "text": [
      "5\n",
      "3\n",
      "3\n"
     ]
    }
   ],
   "source": [
    "# Python program to demonstrate in-built poly-\n",
    "# morphic functions\n",
    "\n",
    "# len() being used for a string\n",
    "print(len(\"geeks\"))\n",
    "\n",
    "# len() being used for a list\n",
    "print(len([10, 20, 30]))\n",
    "print(len([\"a\", \"ab\", \"abc\"]))"
   ]
  },
  {
   "cell_type": "markdown",
   "id": "16d2d890",
   "metadata": {},
   "source": [
    "# VENV\n",
    "\n",
    "[setup and initiation](https://medium.com/@AgnesMbiti/creating-a-python-virtual-environment-on-ubuntu-22-04-5efc173ce655)\n",
    "\n",
    "https://askubuntu.com/questions/1328392/how-to-activate-a-virtual-environment-in-ubuntu\n",
    "\n",
    "\n",
    "============================================<br>\n",
    "You need to install python3-venv:\n",
    "\n",
    "sudo apt install python3-venv\n",
    "Then:\n",
    "\n",
    "python3 -m venv vvv\n",
    "source vvv/bin/activate<br>\n",
    "============================================<br>\n",
    "\n",
    "[rename VENV](https://stackoverflow.com/questions/43256369/how-to-rename-a-virtualenv-in-python)\n",
    "\n",
    "[relocate ENV](https://stackoverflow.com/questions/6628476/renaming-a-virtualenv-folder-without-breaking-it)\n",
    "\n",
    "============================================<br>\n",
    "\n",
    "[pip freeze & requierment.txt]()\n",
    "\n",
    "Activate your virtualenv: source vnev/bin/activate\n",
    "\n",
    "Create a requirements.txt of currently installed packages: pip freeze > requirements.txt\n",
    "\n",
    "Delete the misspelled virtualenv: rm -r vnev/\n",
    "\n",
    "Create a new virtualenv with correct name: virtualenv venv\n",
    "\n",
    "Activate new virtualenv: source venv/bin/activate\n",
    "\n",
    "Install packages from requirements.txt: pip install -r requirements.txt\n",
    "\n",
    "\n",
    "============================================<br>\n"
   ]
  },
  {
   "cell_type": "markdown",
   "id": "d7f1a584",
   "metadata": {},
   "source": [
    "# .git"
   ]
  },
  {
   "cell_type": "markdown",
   "id": "67d82d64",
   "metadata": {},
   "source": [
    "[git-cheatsheet(official)](https://education.github.com/git-cheat-sheet-education.pdf)\n",
    "\n",
    "[bit-advanced-cheatsheet](https://images.datacamp.com/image/upload/v1656573882/Marketing/Blog/git_cheat_sheet.pdf)\n",
    "\n",
    "[official refrence](https://git-scm.com/docs)\n",
    "\n",
    "[official book](https://git-scm.com/book/en/v2)"
   ]
  },
  {
   "cell_type": "markdown",
   "id": "b7f817b4",
   "metadata": {},
   "source": [
    "[importing repo](https://docs.github.com/en/migrations/importing-source-code/using-the-command-line-to-import-source-code)"
   ]
  },
  {
   "cell_type": "markdown",
   "id": "b2fa1bb5",
   "metadata": {},
   "source": [
    "# bash || Terminal\n",
    "[GNU-bash-manual](https://www.gnu.org/savannah-checkouts/gnu/bash/manual/bash.html)"
   ]
  },
  {
   "cell_type": "markdown",
   "id": "8ba022be",
   "metadata": {},
   "source": []
  }
 ],
 "metadata": {
  "kernelspec": {
   "display_name": "Python 3 (ipykernel)",
   "language": "python",
   "name": "python3"
  },
  "language_info": {
   "codemirror_mode": {
    "name": "ipython",
    "version": 3
   },
   "file_extension": ".py",
   "mimetype": "text/x-python",
   "name": "python",
   "nbconvert_exporter": "python",
   "pygments_lexer": "ipython3",
   "version": "3.10.12"
  }
 },
 "nbformat": 4,
 "nbformat_minor": 5
}
